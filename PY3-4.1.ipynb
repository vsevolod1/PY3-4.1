{
 "cells": [
  {
   "cell_type": "code",
   "execution_count": 92,
   "metadata": {
    "collapsed": true
   },
   "outputs": [],
   "source": [
    "import pandas as pd"
   ]
  },
  {
   "cell_type": "markdown",
   "metadata": {},
   "source": [
    "Первая часть задания"
   ]
  },
  {
   "cell_type": "code",
   "execution_count": 69,
   "metadata": {
    "collapsed": false
   },
   "outputs": [],
   "source": [
    "def count_top3(years):\n",
    "    \n",
    "    birth_list_temp = []\n",
    "\n",
    "    for year in years:\n",
    "        path = 'names/yob' + str(year) + '.txt'\n",
    "        name_list = pd.read_csv(path, names=['Name','Gender','Count'])\n",
    "        birth_list_temp.append(name_list)\n",
    "\n",
    "    birth_list = birth_list_temp[0]\n",
    "    \n",
    "    for bl in birth_list_temp[1:]:\n",
    "        birth_list = pd.merge(birth_list, bl, on=['Name', 'Gender'])\n",
    "\n",
    "    count_list = [col for col in list(birth_list) if 'Count' in col]\n",
    "\n",
    "    birth_list['Total'] = 0\n",
    "\n",
    "    for count in count_list:\n",
    "        birth_list['Total'] += birth_list[count]\n",
    "\n",
    "    birth_list.sort_values(by='Total', axis=0, ascending=False, inplace=True)\n",
    "    top = list(birth_list['Name'])[:3]\n",
    "    return(top)"
   ]
  },
  {
   "cell_type": "code",
   "execution_count": 70,
   "metadata": {
    "collapsed": false
   },
   "outputs": [
    {
     "name": "stdout",
     "output_type": "stream",
     "text": [
      "['James', 'John', 'Robert']\n"
     ]
    }
   ],
   "source": [
    "print(count_top3([1900, 1950, 2000]))"
   ]
  },
  {
   "cell_type": "code",
   "execution_count": null,
   "metadata": {
    "collapsed": true
   },
   "outputs": [],
   "source": [
    "Вторая часть задания"
   ]
  },
  {
   "cell_type": "code",
   "execution_count": 86,
   "metadata": {
    "collapsed": false
   },
   "outputs": [],
   "source": [
    "def count_dynamics(years):\n",
    "    dynamics = {'F': [], 'M': []}\n",
    "    for year in years:\n",
    "        path = 'names/yob' + str(year) + '.txt'\n",
    "        name_list = pd.read_csv(path, names=['Name','Gender','Count'])\n",
    "        \n",
    "        women, men = name_list.groupby('Gender').agg('sum').Count\n",
    "        \n",
    "        dynamics['F'].append(women)\n",
    "        dynamics['M'].append(men)\n",
    "        \n",
    "    return dynamics"
   ]
  },
  {
   "cell_type": "code",
   "execution_count": 87,
   "metadata": {
    "collapsed": false
   },
   "outputs": [
    {
     "name": "stdout",
     "output_type": "stream",
     "text": [
      "{'F': [299822, 1713450, 1814738], 'M': [150490, 1791474, 1962556]}\n"
     ]
    }
   ],
   "source": [
    "print(count_dynamics([1900, 1950, 2000]))"
   ]
  },
  {
   "cell_type": "markdown",
   "metadata": {},
   "source": [
    "Проверка"
   ]
  },
  {
   "cell_type": "code",
   "execution_count": 93,
   "metadata": {
    "collapsed": false
   },
   "outputs": [
    {
     "data": {
      "text/plain": [
       "True"
      ]
     },
     "execution_count": 93,
     "metadata": {},
     "output_type": "execute_result"
    }
   ],
   "source": [
    "count_top3([1880]) == ['John', 'William', 'Mary']\n",
    "count_top3([1900, 1950, 2000]) == ['James', 'John', 'Robert']\n",
    "\n",
    "count_dynamics([1900, 1950, 2000]) == {\n",
    "          'F': [299822, 1713450, 1814738],\n",
    "          'M': [150490, 1791474, 1962556]\n",
    "        }"
   ]
  },
  {
   "cell_type": "code",
   "execution_count": null,
   "metadata": {
    "collapsed": true
   },
   "outputs": [],
   "source": []
  }
 ],
 "metadata": {
  "kernelspec": {
   "display_name": "Python 3",
   "language": "python",
   "name": "python3"
  },
  "language_info": {
   "codemirror_mode": {
    "name": "ipython",
    "version": 3
   },
   "file_extension": ".py",
   "mimetype": "text/x-python",
   "name": "python",
   "nbconvert_exporter": "python",
   "pygments_lexer": "ipython3",
   "version": "3.6.0"
  }
 },
 "nbformat": 4,
 "nbformat_minor": 2
}
